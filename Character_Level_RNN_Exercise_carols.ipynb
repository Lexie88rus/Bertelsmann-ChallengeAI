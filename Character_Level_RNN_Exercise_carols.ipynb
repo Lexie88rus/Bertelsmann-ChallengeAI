{
 "cells": [
  {
   "cell_type": "markdown",
   "metadata": {},
   "source": [
    "# Character-Level LSTM in PyTorch\n",
    "\n",
    "In this notebook, I'll construct a character-level LSTM with PyTorch. The network will train character by character on some text, then generate new text character by character. As an example, I will train on Anna Karenina. **This model will be able to generate new text based on the text from the book!**\n",
    "\n",
    "This network is based off of Andrej Karpathy's [post on RNNs](http://karpathy.github.io/2015/05/21/rnn-effectiveness/) and [implementation in Torch](https://github.com/karpathy/char-rnn). Below is the general architecture of the character-wise RNN.\n",
    "\n",
    "<img src=\"assets/charseq.jpeg\" width=\"500\">"
   ]
  },
  {
   "cell_type": "markdown",
   "metadata": {},
   "source": [
    "First let's load in our required resources for data loading and model creation."
   ]
  },
  {
   "cell_type": "code",
   "execution_count": 1,
   "metadata": {},
   "outputs": [],
   "source": [
    "import numpy as np\n",
    "import torch\n",
    "from torch import nn\n",
    "import torch.nn.functional as F"
   ]
  },
  {
   "cell_type": "markdown",
   "metadata": {},
   "source": [
    "## Load in Data\n",
    "\n",
    "Then, we'll load the Anna Karenina text file and convert it into integers for our network to use. "
   ]
  },
  {
   "cell_type": "code",
   "execution_count": 2,
   "metadata": {},
   "outputs": [],
   "source": [
    "# open text file and read in data as `text`\n",
    "with open('data/carols.txt', 'r') as f:\n",
    "    text = f.read()"
   ]
  },
  {
   "cell_type": "markdown",
   "metadata": {},
   "source": [
    "Let's check out the first 100 characters, make sure everything is peachy. According to the [American Book Review](http://americanbookreview.org/100bestlines.asp), this is the 6th best first line of a book ever."
   ]
  },
  {
   "cell_type": "code",
   "execution_count": 3,
   "metadata": {},
   "outputs": [
    {
     "data": {
      "text/plain": [
       "'I Want a Hippopotamus For Christmas\\n\\n\"I want a hippopotamus for Christmas\\nOnly a hippopotamus will d'"
      ]
     },
     "execution_count": 3,
     "metadata": {},
     "output_type": "execute_result"
    }
   ],
   "source": [
    "text[:100]"
   ]
  },
  {
   "cell_type": "markdown",
   "metadata": {},
   "source": [
    "### Tokenization\n",
    "\n",
    "In the cells, below, I'm creating a couple **dictionaries** to convert the characters to and from integers. Encoding the characters as integers makes it easier to use as input in the network."
   ]
  },
  {
   "cell_type": "code",
   "execution_count": 4,
   "metadata": {},
   "outputs": [],
   "source": [
    "# encode the text and map each character to an integer and vice versa\n",
    "\n",
    "# we create two dictionaries:\n",
    "# 1. int2char, which maps integers to characters\n",
    "# 2. char2int, which maps characters to unique integers\n",
    "chars = tuple(set(text))\n",
    "int2char = dict(enumerate(chars))\n",
    "char2int = {ch: ii for ii, ch in int2char.items()}\n",
    "\n",
    "# encode the text\n",
    "encoded = np.array([char2int[ch] for ch in text])"
   ]
  },
  {
   "cell_type": "markdown",
   "metadata": {},
   "source": [
    "And we can see those same characters from above, encoded as integers."
   ]
  },
  {
   "cell_type": "code",
   "execution_count": 5,
   "metadata": {},
   "outputs": [
    {
     "data": {
      "text/plain": [
       "array([51, 77,  3, 45, 70,  5, 77, 45, 77, 17, 33, 54, 54, 41, 54, 41,  5,\n",
       "       45, 76, 28, 56, 77,  9, 41, 49, 77,  4,  8, 49, 33, 56,  5, 76, 45,\n",
       "       56, 34, 34, 11, 51, 77, 43, 45, 70,  5, 77, 45, 77,  8, 33, 54, 54,\n",
       "       41, 54, 41,  5, 45, 76, 28, 56, 77, 32, 41, 49, 77,  4,  8, 49, 33,\n",
       "       56,  5, 76, 45, 56, 34, 27, 70, 60, 66, 77, 45, 77,  8, 33, 54, 54,\n",
       "       41, 54, 41,  5, 45, 76, 28, 56, 77, 43, 33, 60, 60, 77, 37])"
      ]
     },
     "execution_count": 5,
     "metadata": {},
     "output_type": "execute_result"
    }
   ],
   "source": [
    "encoded[:100]"
   ]
  },
  {
   "cell_type": "markdown",
   "metadata": {},
   "source": [
    "## Pre-processing the data\n",
    "\n",
    "As you can see in our char-RNN image above, our LSTM expects an input that is **one-hot encoded** meaning that each character is converted into an integer (via our created dictionary) and *then* converted into a column vector where only it's corresponding integer index will have the value of 1 and the rest of the vector will be filled with 0's. Since we're one-hot encoding the data, let's make a function to do that!\n"
   ]
  },
  {
   "cell_type": "code",
   "execution_count": 6,
   "metadata": {},
   "outputs": [],
   "source": [
    "def one_hot_encode(arr, n_labels):\n",
    "    \n",
    "    # Initialize the the encoded array\n",
    "    one_hot = np.zeros((arr.size, n_labels), dtype=np.float32)\n",
    "    \n",
    "    # Fill the appropriate elements with ones\n",
    "    one_hot[np.arange(one_hot.shape[0]), arr.flatten()] = 1.\n",
    "    \n",
    "    # Finally reshape it to get back to the original array\n",
    "    one_hot = one_hot.reshape((*arr.shape, n_labels))\n",
    "    \n",
    "    return one_hot"
   ]
  },
  {
   "cell_type": "code",
   "execution_count": 7,
   "metadata": {},
   "outputs": [
    {
     "name": "stdout",
     "output_type": "stream",
     "text": [
      "[[[0. 0. 0. 1. 0. 0. 0. 0.]\n",
      "  [0. 0. 0. 0. 0. 1. 0. 0.]\n",
      "  [0. 1. 0. 0. 0. 0. 0. 0.]]]\n"
     ]
    }
   ],
   "source": [
    "# check that the function works as expected\n",
    "test_seq = np.array([[3, 5, 1]])\n",
    "one_hot = one_hot_encode(test_seq, 8)\n",
    "\n",
    "print(one_hot)"
   ]
  },
  {
   "cell_type": "markdown",
   "metadata": {},
   "source": [
    "## Making training mini-batches\n",
    "\n",
    "\n",
    "To train on this data, we also want to create mini-batches for training. Remember that we want our batches to be multiple sequences of some desired number of sequence steps. Considering a simple example, our batches would look like this:\n",
    "\n",
    "<img src=\"assets/sequence_batching@1x.png\" width=500px>\n",
    "\n",
    "\n",
    "<br>\n",
    "\n",
    "In this example, we'll take the encoded characters (passed in as the `arr` parameter) and split them into multiple sequences, given by `batch_size`. Each of our sequences will be `seq_length` long.\n",
    "\n",
    "### Creating Batches\n",
    "\n",
    "**1. The first thing we need to do is discard some of the text so we only have completely full mini-batches. **\n",
    "\n",
    "Each batch contains $N \\times M$ characters, where $N$ is the batch size (the number of sequences in a batch) and $M$ is the seq_length or number of time steps in a sequence. Then, to get the total number of batches, $K$, that we can make from the array `arr`, you divide the length of `arr` by the number of characters per batch. Once you know the number of batches, you can get the total number of characters to keep from `arr`, $N * M * K$.\n",
    "\n",
    "**2. After that, we need to split `arr` into $N$ batches. ** \n",
    "\n",
    "You can do this using `arr.reshape(size)` where `size` is a tuple containing the dimensions sizes of the reshaped array. We know we want $N$ sequences in a batch, so let's make that the size of the first dimension. For the second dimension, you can use `-1` as a placeholder in the size, it'll fill up the array with the appropriate data for you. After this, you should have an array that is $N \\times (M * K)$.\n",
    "\n",
    "**3. Now that we have this array, we can iterate through it to get our mini-batches. **\n",
    "\n",
    "The idea is each batch is a $N \\times M$ window on the $N \\times (M * K)$ array. For each subsequent batch, the window moves over by `seq_length`. We also want to create both the input and target arrays. Remember that the targets are just the inputs shifted over by one character. The way I like to do this window is use `range` to take steps of size `n_steps` from $0$ to `arr.shape[1]`, the total number of tokens in each sequence. That way, the integers you get from `range` always point to the start of a batch, and each window is `seq_length` wide.\n",
    "\n",
    "> **TODO:** Write the code for creating batches in the function below. The exercises in this notebook _will not be easy_. I've provided a notebook with solutions alongside this notebook. If you get stuck, checkout the solutions. The most important thing is that you don't copy and paste the code into here, **type out the solution code yourself.**"
   ]
  },
  {
   "cell_type": "code",
   "execution_count": 32,
   "metadata": {},
   "outputs": [],
   "source": [
    "def get_batches(arr, batch_size, seq_length):\n",
    "    '''Create a generator that returns batches of size\n",
    "       batch_size x seq_length from arr.\n",
    "       \n",
    "       Arguments\n",
    "       ---------\n",
    "       arr: Array you want to make batches from\n",
    "       batch_size: Batch size, the number of sequences per batch\n",
    "       seq_length: Number of encoded chars in a sequence\n",
    "    '''\n",
    "    \n",
    "    ## TODO: Get the number of batches we can make\n",
    "    characters_per_batch = batch_size * seq_length\n",
    "    n_batches = len(arr) // characters_per_batch\n",
    "    \n",
    "    ## TODO: Keep only enough characters to make full batches\n",
    "    arr = arr[ : characters_per_batch * n_batches]\n",
    "    \n",
    "    ## TODO: Reshape into batch_size rows\n",
    "    arr = arr.reshape(batch_size, -1)\n",
    "    \n",
    "    ## TODO: Iterate over the batches using a window of size seq_length\n",
    "    for n in range(0, arr.shape[1], seq_length):\n",
    "        # The features\n",
    "        x = arr[:, n : n + seq_length]\n",
    "        # The targets, shifted by one\n",
    "        y = np.zeros_like(x)\n",
    "        try:\n",
    "            y[:, :-1], y[:, -1] = x[:, 1:], arr[:, n+seq_length]\n",
    "        except IndexError:\n",
    "            y[:, :-1], y[:, -1] = x[:, 1:], arr[:, 0]\n",
    "        yield x, y"
   ]
  },
  {
   "cell_type": "markdown",
   "metadata": {},
   "source": [
    "### Test Your Implementation\n",
    "\n",
    "Now I'll make some data sets and we can check out what's going on as we batch data. Here, as an example, I'm going to use a batch size of 8 and 50 sequence steps."
   ]
  },
  {
   "cell_type": "code",
   "execution_count": 33,
   "metadata": {},
   "outputs": [],
   "source": [
    "batches = get_batches(encoded, 8, 50)\n",
    "x, y = next(batches)"
   ]
  },
  {
   "cell_type": "code",
   "execution_count": 34,
   "metadata": {},
   "outputs": [
    {
     "name": "stdout",
     "output_type": "stream",
     "text": [
      "x\n",
      " [[51 77  3 45 70  5 77 45 77 17]\n",
      " [45 49 50 34 34 27  8 64 77 15]\n",
      " [34 34  3  8 62 70 77  5  8 62]\n",
      " [77  5  8 62 77  8 33 60 60 56]\n",
      " [45  5 77 70 33 38  8  5 64 34]\n",
      " [ 7 34  6 60 60 77 33 56 77 76]\n",
      " [ 8 45  5 77  8 62 18 56 77 45]\n",
      " [77  5 41 77 60 41 41  0 77 45]]\n",
      "\n",
      "y\n",
      " [[77  3 45 70  5 77 45 77 17 33]\n",
      " [49 50 34 34 27  8 64 77 15 49]\n",
      " [34  3  8 62 70 77  5  8 62 66]\n",
      " [ 5  8 62 77  8 33 60 60 56 77]\n",
      " [ 5 77 70 33 38  8  5 64 34  6]\n",
      " [34  6 60 60 77 33 56 77 76 62]\n",
      " [45  5 77  8 62 18 56 77 45 77]\n",
      " [ 5 41 77 60 41 41  0 77 45 77]]\n"
     ]
    }
   ],
   "source": [
    "# printing out the first 10 items in a sequence\n",
    "print('x\\n', x[:10, :10])\n",
    "print('\\ny\\n', y[:10, :10])"
   ]
  },
  {
   "cell_type": "markdown",
   "metadata": {},
   "source": [
    "If you implemented `get_batches` correctly, the above output should look something like \n",
    "```\n",
    "x\n",
    " [[25  8 60 11 45 27 28 73  1  2]\n",
    " [17  7 20 73 45  8 60 45 73 60]\n",
    " [27 20 80 73  7 28 73 60 73 65]\n",
    " [17 73 45  8 27 73 66  8 46 27]\n",
    " [73 17 60 12 73  8 27 28 73 45]\n",
    " [66 64 17 17 46  7 20 73 60 20]\n",
    " [73 76 20 20 60 73  8 60 80 73]\n",
    " [47 35 43  7 20 17 24 50 37 73]]\n",
    "\n",
    "y\n",
    " [[ 8 60 11 45 27 28 73  1  2  2]\n",
    " [ 7 20 73 45  8 60 45 73 60 45]\n",
    " [20 80 73  7 28 73 60 73 65  7]\n",
    " [73 45  8 27 73 66  8 46 27 65]\n",
    " [17 60 12 73  8 27 28 73 45 27]\n",
    " [64 17 17 46  7 20 73 60 20 80]\n",
    " [76 20 20 60 73  8 60 80 73 17]\n",
    " [35 43  7 20 17 24 50 37 73 36]]\n",
    " ```\n",
    " although the exact numbers may be different. Check to make sure the data is shifted over one step for `y`."
   ]
  },
  {
   "cell_type": "markdown",
   "metadata": {},
   "source": [
    "---\n",
    "## Defining the network with PyTorch\n",
    "\n",
    "Below is where you'll define the network.\n",
    "\n",
    "<img src=\"assets/charRNN.png\" width=500px>\n",
    "\n",
    "Next, you'll use PyTorch to define the architecture of the network. We start by defining the layers and operations we want. Then, define a method for the forward pass. You've also been given a method for predicting characters."
   ]
  },
  {
   "cell_type": "markdown",
   "metadata": {},
   "source": [
    "### Model Structure\n",
    "\n",
    "In `__init__` the suggested structure is as follows:\n",
    "* Create and store the necessary dictionaries (this has been done for you)\n",
    "* Define an LSTM layer that takes as params: an input size (the number of characters), a hidden layer size `n_hidden`, a number of layers `n_layers`, a dropout probability `drop_prob`, and a batch_first boolean (True, since we are batching)\n",
    "* Define a dropout layer with `drop_prob`\n",
    "* Define a fully-connected layer with params: input size `n_hidden` and output size (the number of characters)\n",
    "* Finally, initialize the weights (again, this has been given)\n",
    "\n",
    "Note that some parameters have been named and given in the `__init__` function, and we use them and store them by doing something like `self.drop_prob = drop_prob`."
   ]
  },
  {
   "cell_type": "markdown",
   "metadata": {},
   "source": [
    "---\n",
    "### LSTM Inputs/Outputs\n",
    "\n",
    "You can create a basic [LSTM layer](https://pytorch.org/docs/stable/nn.html#lstm) as follows\n",
    "\n",
    "```python\n",
    "self.lstm = nn.LSTM(input_size, n_hidden, n_layers, \n",
    "                            dropout=drop_prob, batch_first=True)\n",
    "```\n",
    "\n",
    "where `input_size` is the number of characters this cell expects to see as sequential input, and `n_hidden` is the number of units in the hidden layers in the cell. And we can add dropout by adding a dropout parameter with a specified probability; this will automatically add dropout to the inputs or outputs. Finally, in the `forward` function, we can stack up the LSTM cells into layers using `.view`. With this, you pass in a list of cells and it will send the output of one cell into the next cell.\n",
    "\n",
    "We also need to create an initial hidden state of all zeros. This is done like so\n",
    "\n",
    "```python\n",
    "self.init_hidden()\n",
    "```"
   ]
  },
  {
   "cell_type": "code",
   "execution_count": 35,
   "metadata": {},
   "outputs": [
    {
     "name": "stdout",
     "output_type": "stream",
     "text": [
      "Training on GPU!\n"
     ]
    }
   ],
   "source": [
    "# check if GPU is available\n",
    "train_on_gpu = torch.cuda.is_available()\n",
    "if(train_on_gpu):\n",
    "    print('Training on GPU!')\n",
    "else: \n",
    "    print('No GPU available, training on CPU; consider making n_epochs very small.')"
   ]
  },
  {
   "cell_type": "code",
   "execution_count": 37,
   "metadata": {},
   "outputs": [],
   "source": [
    "class CharRNN(nn.Module):\n",
    "    \n",
    "    def __init__(self, tokens, n_hidden=256, n_layers=2,\n",
    "                               drop_prob=0.5, lr=0.001):\n",
    "        super().__init__()\n",
    "        self.drop_prob = drop_prob\n",
    "        self.n_layers = n_layers\n",
    "        self.n_hidden = n_hidden\n",
    "        self.lr = lr\n",
    "        \n",
    "        # creating character dictionaries\n",
    "        self.chars = tokens\n",
    "        self.int2char = dict(enumerate(self.chars))\n",
    "        self.char2int = {ch: ii for ii, ch in self.int2char.items()}\n",
    "        \n",
    "        ## TODO: define the layers of the model\n",
    "        self.lstm = nn.LSTM(len(self.chars), n_hidden, n_layers, \n",
    "                            dropout=drop_prob, batch_first=True)\n",
    "        \n",
    "        self.dropout = nn.Dropout(drop_prob)\n",
    "        \n",
    "        self.fc = nn.Linear(in_features=n_hidden, out_features=len(self.chars))\n",
    "    \n",
    "    def forward(self, x, hidden):\n",
    "        ''' Forward pass through the network. \n",
    "            These inputs are x, and the hidden/cell state `hidden`. '''\n",
    "                \n",
    "        ## TODO: Get the outputs and the new hidden state from the lstm\n",
    "        out, hidden = self.lstm(x, hidden)\n",
    "        \n",
    "        out = self.dropout(out)\n",
    "        \n",
    "        out = out.contiguous().view(-1, self.n_hidden)\n",
    "        out = self.fc(out)\n",
    "        \n",
    "        # return the final output and the hidden state\n",
    "        return out, hidden\n",
    "    \n",
    "    \n",
    "    def init_hidden(self, batch_size):\n",
    "        ''' Initializes hidden state '''\n",
    "        # Create two new tensors with sizes n_layers x batch_size x n_hidden,\n",
    "        # initialized to zero, for hidden state and cell state of LSTM\n",
    "        weight = next(self.parameters()).data\n",
    "        \n",
    "        if (train_on_gpu):\n",
    "            hidden = (weight.new(self.n_layers, batch_size, self.n_hidden).zero_().cuda(),\n",
    "                  weight.new(self.n_layers, batch_size, self.n_hidden).zero_().cuda())\n",
    "        else:\n",
    "            hidden = (weight.new(self.n_layers, batch_size, self.n_hidden).zero_(),\n",
    "                      weight.new(self.n_layers, batch_size, self.n_hidden).zero_())\n",
    "        \n",
    "        return hidden\n",
    "        "
   ]
  },
  {
   "cell_type": "markdown",
   "metadata": {},
   "source": [
    "## Time to train\n",
    "\n",
    "The train function gives us the ability to set the number of epochs, the learning rate, and other parameters.\n",
    "\n",
    "Below we're using an Adam optimizer and cross entropy loss since we are looking at character class scores as output. We calculate the loss and perform backpropagation, as usual!\n",
    "\n",
    "A couple of details about training: \n",
    ">* Within the batch loop, we detach the hidden state from its history; this time setting it equal to a new *tuple* variable because an LSTM has a hidden state that is a tuple of the hidden and cell states.\n",
    "* We use [`clip_grad_norm_`](https://pytorch.org/docs/stable/_modules/torch/nn/utils/clip_grad.html) to help prevent exploding gradients."
   ]
  },
  {
   "cell_type": "code",
   "execution_count": 38,
   "metadata": {},
   "outputs": [],
   "source": [
    "def train(net, data, epochs=10, batch_size=10, seq_length=50, lr=0.001, clip=5, val_frac=0.1, print_every=10):\n",
    "    ''' Training a network \n",
    "    \n",
    "        Arguments\n",
    "        ---------\n",
    "        \n",
    "        net: CharRNN network\n",
    "        data: text data to train the network\n",
    "        epochs: Number of epochs to train\n",
    "        batch_size: Number of mini-sequences per mini-batch, aka batch size\n",
    "        seq_length: Number of character steps per mini-batch\n",
    "        lr: learning rate\n",
    "        clip: gradient clipping\n",
    "        val_frac: Fraction of data to hold out for validation\n",
    "        print_every: Number of steps for printing training and validation loss\n",
    "    \n",
    "    '''\n",
    "    net.train()\n",
    "    \n",
    "    opt = torch.optim.Adam(net.parameters(), lr=lr)\n",
    "    criterion = nn.CrossEntropyLoss()\n",
    "    \n",
    "    # create training and validation data\n",
    "    val_idx = int(len(data)*(1-val_frac))\n",
    "    data, val_data = data[:val_idx], data[val_idx:]\n",
    "    \n",
    "    if(train_on_gpu):\n",
    "        net.cuda()\n",
    "    \n",
    "    counter = 0\n",
    "    n_chars = len(net.chars)\n",
    "    for e in range(epochs):\n",
    "        # initialize hidden state\n",
    "        h = net.init_hidden(batch_size)\n",
    "        \n",
    "        for x, y in get_batches(data, batch_size, seq_length):\n",
    "            counter += 1\n",
    "            \n",
    "            # One-hot encode our data and make them Torch tensors\n",
    "            x = one_hot_encode(x, n_chars)\n",
    "            inputs, targets = torch.from_numpy(x), torch.from_numpy(y)\n",
    "            \n",
    "            if(train_on_gpu):\n",
    "                inputs, targets = inputs.cuda(), targets.cuda()\n",
    "\n",
    "            # Creating new variables for the hidden state, otherwise\n",
    "            # we'd backprop through the entire training history\n",
    "            h = tuple([each.data for each in h])\n",
    "\n",
    "            # zero accumulated gradients\n",
    "            net.zero_grad()\n",
    "            \n",
    "            # get the output from the model\n",
    "            output, h = net(inputs, h)\n",
    "            \n",
    "            # calculate the loss and perform backprop\n",
    "            loss = criterion(output, targets.view(batch_size*seq_length).long())\n",
    "            loss.backward()\n",
    "            # `clip_grad_norm` helps prevent the exploding gradient problem in RNNs / LSTMs.\n",
    "            nn.utils.clip_grad_norm_(net.parameters(), clip)\n",
    "            opt.step()\n",
    "            \n",
    "            # loss stats\n",
    "            if counter % print_every == 0:\n",
    "                # Get validation loss\n",
    "                val_h = net.init_hidden(batch_size)\n",
    "                val_losses = []\n",
    "                net.eval()\n",
    "                for x, y in get_batches(val_data, batch_size, seq_length):\n",
    "                    # One-hot encode our data and make them Torch tensors\n",
    "                    x = one_hot_encode(x, n_chars)\n",
    "                    x, y = torch.from_numpy(x), torch.from_numpy(y)\n",
    "                    \n",
    "                    # Creating new variables for the hidden state, otherwise\n",
    "                    # we'd backprop through the entire training history\n",
    "                    val_h = tuple([each.data for each in val_h])\n",
    "                    \n",
    "                    inputs, targets = x, y\n",
    "                    if(train_on_gpu):\n",
    "                        inputs, targets = inputs.cuda(), targets.cuda()\n",
    "\n",
    "                    output, val_h = net(inputs, val_h)\n",
    "                    val_loss = criterion(output, targets.view(batch_size*seq_length).long())\n",
    "                \n",
    "                    val_losses.append(val_loss.item())\n",
    "                \n",
    "                net.train() # reset to train mode after iterationg through validation data\n",
    "                \n",
    "                print(\"Epoch: {}/{}...\".format(e+1, epochs),\n",
    "                      \"Step: {}...\".format(counter),\n",
    "                      \"Loss: {:.4f}...\".format(loss.item()),\n",
    "                      \"Val Loss: {:.4f}\".format(np.mean(val_losses)))"
   ]
  },
  {
   "cell_type": "markdown",
   "metadata": {},
   "source": [
    "## Instantiating the model\n",
    "\n",
    "Now we can actually train the network. First we'll create the network itself, with some given hyperparameters. Then, define the mini-batches sizes, and start training!"
   ]
  },
  {
   "cell_type": "code",
   "execution_count": 139,
   "metadata": {},
   "outputs": [
    {
     "name": "stdout",
     "output_type": "stream",
     "text": [
      "CharRNN(\n",
      "  (lstm): LSTM(78, 512, num_layers=3, batch_first=True, dropout=0.5)\n",
      "  (dropout): Dropout(p=0.5, inplace=False)\n",
      "  (fc): Linear(in_features=512, out_features=78, bias=True)\n",
      ")\n"
     ]
    }
   ],
   "source": [
    "## TODO: set your model hyperparameters\n",
    "# define and print the net\n",
    "n_hidden= 512\n",
    "n_layers= 3\n",
    "\n",
    "net = CharRNN(chars, n_hidden, n_layers)\n",
    "print(net)"
   ]
  },
  {
   "cell_type": "markdown",
   "metadata": {},
   "source": [
    "### Set your training hyperparameters!"
   ]
  },
  {
   "cell_type": "code",
   "execution_count": 214,
   "metadata": {
    "scrolled": true
   },
   "outputs": [
    {
     "name": "stdout",
     "output_type": "stream",
     "text": [
      "Epoch: 1/100... Step: 10... Loss: 0.6477... Val Loss: 2.9733\n",
      "Epoch: 1/100... Step: 20... Loss: 0.6685... Val Loss: 2.9707\n",
      "Epoch: 2/100... Step: 30... Loss: 0.6148... Val Loss: 3.0064\n",
      "Epoch: 2/100... Step: 40... Loss: 0.6820... Val Loss: 2.9600\n",
      "Epoch: 2/100... Step: 50... Loss: 0.5718... Val Loss: 2.9572\n",
      "Epoch: 3/100... Step: 60... Loss: 0.6730... Val Loss: 2.9983\n",
      "Epoch: 3/100... Step: 70... Loss: 0.7175... Val Loss: 2.9670\n",
      "Epoch: 4/100... Step: 80... Loss: 0.6952... Val Loss: 2.9786\n",
      "Epoch: 4/100... Step: 90... Loss: 0.7331... Val Loss: 2.9955\n",
      "Epoch: 4/100... Step: 100... Loss: 0.6700... Val Loss: 2.9734\n",
      "Epoch: 5/100... Step: 110... Loss: 0.6271... Val Loss: 3.0039\n",
      "Epoch: 5/100... Step: 120... Loss: 0.6627... Val Loss: 2.9908\n",
      "Epoch: 5/100... Step: 130... Loss: 0.6429... Val Loss: 2.9935\n",
      "Epoch: 6/100... Step: 140... Loss: 0.6281... Val Loss: 3.0522\n",
      "Epoch: 6/100... Step: 150... Loss: 0.6299... Val Loss: 3.0074\n",
      "Epoch: 7/100... Step: 160... Loss: 0.6018... Val Loss: 3.0016\n",
      "Epoch: 7/100... Step: 170... Loss: 0.6279... Val Loss: 3.0033\n",
      "Epoch: 7/100... Step: 180... Loss: 0.5655... Val Loss: 3.0002\n",
      "Epoch: 8/100... Step: 190... Loss: 0.6163... Val Loss: 3.0415\n",
      "Epoch: 8/100... Step: 200... Loss: 0.6831... Val Loss: 3.0400\n",
      "Epoch: 9/100... Step: 210... Loss: 0.6594... Val Loss: 2.9930\n",
      "Epoch: 9/100... Step: 220... Loss: 0.7327... Val Loss: 3.0196\n",
      "Epoch: 9/100... Step: 230... Loss: 0.6551... Val Loss: 3.0274\n",
      "Epoch: 10/100... Step: 240... Loss: 0.5636... Val Loss: 3.0481\n",
      "Epoch: 10/100... Step: 250... Loss: 0.6395... Val Loss: 3.0300\n",
      "Epoch: 10/100... Step: 260... Loss: 0.6304... Val Loss: 3.0213\n",
      "Epoch: 11/100... Step: 270... Loss: 0.6415... Val Loss: 3.0510\n",
      "Epoch: 11/100... Step: 280... Loss: 0.6108... Val Loss: 3.0635\n",
      "Epoch: 12/100... Step: 290... Loss: 0.6258... Val Loss: 3.0358\n",
      "Epoch: 12/100... Step: 300... Loss: 0.6275... Val Loss: 3.0373\n",
      "Epoch: 12/100... Step: 310... Loss: 0.5497... Val Loss: 3.0589\n",
      "Epoch: 13/100... Step: 320... Loss: 0.5917... Val Loss: 3.0315\n",
      "Epoch: 13/100... Step: 330... Loss: 0.6608... Val Loss: 3.0252\n",
      "Epoch: 14/100... Step: 340... Loss: 0.6511... Val Loss: 3.0294\n",
      "Epoch: 14/100... Step: 350... Loss: 0.6839... Val Loss: 3.0478\n",
      "Epoch: 14/100... Step: 360... Loss: 0.6421... Val Loss: 3.0621\n",
      "Epoch: 15/100... Step: 370... Loss: 0.5731... Val Loss: 3.0470\n",
      "Epoch: 15/100... Step: 380... Loss: 0.6147... Val Loss: 3.0327\n",
      "Epoch: 15/100... Step: 390... Loss: 0.6180... Val Loss: 3.0762\n",
      "Epoch: 16/100... Step: 400... Loss: 0.5957... Val Loss: 3.0890\n",
      "Epoch: 16/100... Step: 410... Loss: 0.6203... Val Loss: 3.0281\n",
      "Epoch: 17/100... Step: 420... Loss: 0.6025... Val Loss: 3.0507\n",
      "Epoch: 17/100... Step: 430... Loss: 0.6501... Val Loss: 3.0515\n",
      "Epoch: 17/100... Step: 440... Loss: 0.5095... Val Loss: 3.0520\n",
      "Epoch: 18/100... Step: 450... Loss: 0.5697... Val Loss: 3.0450\n",
      "Epoch: 18/100... Step: 460... Loss: 0.6333... Val Loss: 3.0477\n",
      "Epoch: 19/100... Step: 470... Loss: 0.6065... Val Loss: 3.0842\n",
      "Epoch: 19/100... Step: 480... Loss: 0.6520... Val Loss: 3.0626\n",
      "Epoch: 19/100... Step: 490... Loss: 0.6771... Val Loss: 3.0345\n",
      "Epoch: 20/100... Step: 500... Loss: 0.5545... Val Loss: 3.1112\n",
      "Epoch: 20/100... Step: 510... Loss: 0.6144... Val Loss: 3.0721\n",
      "Epoch: 20/100... Step: 520... Loss: 0.5813... Val Loss: 3.0614\n",
      "Epoch: 21/100... Step: 530... Loss: 0.5819... Val Loss: 3.0991\n",
      "Epoch: 21/100... Step: 540... Loss: 0.6059... Val Loss: 3.0804\n",
      "Epoch: 22/100... Step: 550... Loss: 0.5691... Val Loss: 3.0954\n",
      "Epoch: 22/100... Step: 560... Loss: 0.6160... Val Loss: 3.0770\n",
      "Epoch: 22/100... Step: 570... Loss: 0.5113... Val Loss: 3.1016\n",
      "Epoch: 23/100... Step: 580... Loss: 0.6110... Val Loss: 3.1451\n",
      "Epoch: 23/100... Step: 590... Loss: 0.6309... Val Loss: 3.0789\n",
      "Epoch: 24/100... Step: 600... Loss: 0.5914... Val Loss: 3.0993\n",
      "Epoch: 24/100... Step: 610... Loss: 0.6466... Val Loss: 3.1463\n",
      "Epoch: 24/100... Step: 620... Loss: 0.6046... Val Loss: 3.0843\n",
      "Epoch: 25/100... Step: 630... Loss: 0.5415... Val Loss: 3.0924\n",
      "Epoch: 25/100... Step: 640... Loss: 0.6153... Val Loss: 3.1223\n",
      "Epoch: 25/100... Step: 650... Loss: 0.5381... Val Loss: 3.1136\n",
      "Epoch: 26/100... Step: 660... Loss: 0.5300... Val Loss: 3.1262\n",
      "Epoch: 26/100... Step: 670... Loss: 0.6033... Val Loss: 3.1195\n",
      "Epoch: 27/100... Step: 680... Loss: 0.5433... Val Loss: 3.1248\n",
      "Epoch: 27/100... Step: 690... Loss: 0.5893... Val Loss: 3.1406\n",
      "Epoch: 27/100... Step: 700... Loss: 0.4997... Val Loss: 3.1241\n",
      "Epoch: 28/100... Step: 710... Loss: 0.5949... Val Loss: 3.1440\n",
      "Epoch: 28/100... Step: 720... Loss: 0.6000... Val Loss: 3.1392\n",
      "Epoch: 29/100... Step: 730... Loss: 0.6127... Val Loss: 3.1260\n",
      "Epoch: 29/100... Step: 740... Loss: 0.6145... Val Loss: 3.1558\n",
      "Epoch: 29/100... Step: 750... Loss: 0.5931... Val Loss: 3.1259\n",
      "Epoch: 30/100... Step: 760... Loss: 0.5232... Val Loss: 3.1147\n",
      "Epoch: 30/100... Step: 770... Loss: 0.5972... Val Loss: 3.1471\n",
      "Epoch: 30/100... Step: 780... Loss: 0.5487... Val Loss: 3.1476\n",
      "Epoch: 31/100... Step: 790... Loss: 0.6020... Val Loss: 3.1569\n",
      "Epoch: 31/100... Step: 800... Loss: 0.5627... Val Loss: 3.1163\n",
      "Epoch: 32/100... Step: 810... Loss: 0.5471... Val Loss: 3.1543\n",
      "Epoch: 32/100... Step: 820... Loss: 0.5794... Val Loss: 3.1705\n",
      "Epoch: 32/100... Step: 830... Loss: 0.4879... Val Loss: 3.1529\n",
      "Epoch: 33/100... Step: 840... Loss: 0.5380... Val Loss: 3.1743\n",
      "Epoch: 33/100... Step: 850... Loss: 0.5962... Val Loss: 3.1279\n",
      "Epoch: 34/100... Step: 860... Loss: 0.5547... Val Loss: 3.1413\n",
      "Epoch: 34/100... Step: 870... Loss: 0.5967... Val Loss: 3.1672\n",
      "Epoch: 34/100... Step: 880... Loss: 0.5822... Val Loss: 3.1158\n",
      "Epoch: 35/100... Step: 890... Loss: 0.5207... Val Loss: 3.1672\n",
      "Epoch: 35/100... Step: 900... Loss: 0.5612... Val Loss: 3.1745\n",
      "Epoch: 35/100... Step: 910... Loss: 0.5791... Val Loss: 3.1329\n",
      "Epoch: 36/100... Step: 920... Loss: 0.5561... Val Loss: 3.1713\n",
      "Epoch: 36/100... Step: 930... Loss: 0.5467... Val Loss: 3.1452\n",
      "Epoch: 37/100... Step: 940... Loss: 0.5223... Val Loss: 3.1697\n",
      "Epoch: 37/100... Step: 950... Loss: 0.5407... Val Loss: 3.1599\n",
      "Epoch: 37/100... Step: 960... Loss: 0.4711... Val Loss: 3.1474\n",
      "Epoch: 38/100... Step: 970... Loss: 0.5342... Val Loss: 3.1816\n",
      "Epoch: 38/100... Step: 980... Loss: 0.5936... Val Loss: 3.1666\n",
      "Epoch: 39/100... Step: 990... Loss: 0.5679... Val Loss: 3.1564\n",
      "Epoch: 39/100... Step: 1000... Loss: 0.6090... Val Loss: 3.2078\n",
      "Epoch: 39/100... Step: 1010... Loss: 0.5704... Val Loss: 3.1672\n",
      "Epoch: 40/100... Step: 1020... Loss: 0.5033... Val Loss: 3.1885\n",
      "Epoch: 40/100... Step: 1030... Loss: 0.5388... Val Loss: 3.1822\n",
      "Epoch: 40/100... Step: 1040... Loss: 0.4847... Val Loss: 3.1868\n",
      "Epoch: 41/100... Step: 1050... Loss: 0.5147... Val Loss: 3.2154\n",
      "Epoch: 41/100... Step: 1060... Loss: 0.5397... Val Loss: 3.2294\n",
      "Epoch: 42/100... Step: 1070... Loss: 0.5244... Val Loss: 3.1761\n",
      "Epoch: 42/100... Step: 1080... Loss: 0.5584... Val Loss: 3.2067\n",
      "Epoch: 42/100... Step: 1090... Loss: 0.4695... Val Loss: 3.1764\n",
      "Epoch: 43/100... Step: 1100... Loss: 0.5396... Val Loss: 3.2122\n",
      "Epoch: 43/100... Step: 1110... Loss: 0.5608... Val Loss: 3.2044\n",
      "Epoch: 44/100... Step: 1120... Loss: 0.5857... Val Loss: 3.1812\n",
      "Epoch: 44/100... Step: 1130... Loss: 0.5698... Val Loss: 3.2244\n",
      "Epoch: 44/100... Step: 1140... Loss: 0.5487... Val Loss: 3.2106\n",
      "Epoch: 45/100... Step: 1150... Loss: 0.5167... Val Loss: 3.1968\n",
      "Epoch: 45/100... Step: 1160... Loss: 0.5633... Val Loss: 3.2005\n",
      "Epoch: 45/100... Step: 1170... Loss: 0.4956... Val Loss: 3.1648\n",
      "Epoch: 46/100... Step: 1180... Loss: 0.4948... Val Loss: 3.2166\n",
      "Epoch: 46/100... Step: 1190... Loss: 0.5489... Val Loss: 3.2059\n",
      "Epoch: 47/100... Step: 1200... Loss: 0.5062... Val Loss: 3.2293\n",
      "Epoch: 47/100... Step: 1210... Loss: 0.5435... Val Loss: 3.2433\n",
      "Epoch: 47/100... Step: 1220... Loss: 0.4422... Val Loss: 3.1883\n",
      "Epoch: 48/100... Step: 1230... Loss: 0.4981... Val Loss: 3.2132\n",
      "Epoch: 48/100... Step: 1240... Loss: 0.5384... Val Loss: 3.2165\n",
      "Epoch: 49/100... Step: 1250... Loss: 0.5453... Val Loss: 3.1798\n",
      "Epoch: 49/100... Step: 1260... Loss: 0.5499... Val Loss: 3.2630\n",
      "Epoch: 49/100... Step: 1270... Loss: 0.5430... Val Loss: 3.2061\n",
      "Epoch: 50/100... Step: 1280... Loss: 0.4583... Val Loss: 3.2366\n",
      "Epoch: 50/100... Step: 1290... Loss: 0.5246... Val Loss: 3.2523\n",
      "Epoch: 50/100... Step: 1300... Loss: 0.4968... Val Loss: 3.2358\n",
      "Epoch: 51/100... Step: 1310... Loss: 0.5191... Val Loss: 3.2509\n",
      "Epoch: 51/100... Step: 1320... Loss: 0.4965... Val Loss: 3.2528\n",
      "Epoch: 52/100... Step: 1330... Loss: 0.4996... Val Loss: 3.2339\n",
      "Epoch: 52/100... Step: 1340... Loss: 0.5242... Val Loss: 3.2813\n",
      "Epoch: 52/100... Step: 1350... Loss: 0.4261... Val Loss: 3.2262\n",
      "Epoch: 53/100... Step: 1360... Loss: 0.5101... Val Loss: 3.2639\n",
      "Epoch: 53/100... Step: 1370... Loss: 0.5028... Val Loss: 3.2541\n",
      "Epoch: 54/100... Step: 1380... Loss: 0.5152... Val Loss: 3.2170\n",
      "Epoch: 54/100... Step: 1390... Loss: 0.5438... Val Loss: 3.2768\n",
      "Epoch: 54/100... Step: 1400... Loss: 0.5088... Val Loss: 3.2555\n",
      "Epoch: 55/100... Step: 1410... Loss: 0.4490... Val Loss: 3.2431\n",
      "Epoch: 55/100... Step: 1420... Loss: 0.4966... Val Loss: 3.2682\n",
      "Epoch: 55/100... Step: 1430... Loss: 0.4977... Val Loss: 3.2475\n",
      "Epoch: 56/100... Step: 1440... Loss: 0.4983... Val Loss: 3.2832\n",
      "Epoch: 56/100... Step: 1450... Loss: 0.5208... Val Loss: 3.2484\n",
      "Epoch: 57/100... Step: 1460... Loss: 0.4977... Val Loss: 3.2352\n",
      "Epoch: 57/100... Step: 1470... Loss: 0.5210... Val Loss: 3.2885\n",
      "Epoch: 57/100... Step: 1480... Loss: 0.4154... Val Loss: 3.2253\n",
      "Epoch: 58/100... Step: 1490... Loss: 0.4781... Val Loss: 3.2461\n",
      "Epoch: 58/100... Step: 1500... Loss: 0.5018... Val Loss: 3.2954\n",
      "Epoch: 59/100... Step: 1510... Loss: 0.5231... Val Loss: 3.2614\n",
      "Epoch: 59/100... Step: 1520... Loss: 0.5478... Val Loss: 3.2859\n",
      "Epoch: 59/100... Step: 1530... Loss: 0.4731... Val Loss: 3.2563\n",
      "Epoch: 60/100... Step: 1540... Loss: 0.4457... Val Loss: 3.2678\n",
      "Epoch: 60/100... Step: 1550... Loss: 0.5060... Val Loss: 3.2712\n",
      "Epoch: 60/100... Step: 1560... Loss: 0.4677... Val Loss: 3.2519\n",
      "Epoch: 61/100... Step: 1570... Loss: 0.5106... Val Loss: 3.3144\n",
      "Epoch: 61/100... Step: 1580... Loss: 0.4778... Val Loss: 3.3150\n",
      "Epoch: 62/100... Step: 1590... Loss: 0.4505... Val Loss: 3.2725\n",
      "Epoch: 62/100... Step: 1600... Loss: 0.4952... Val Loss: 3.3005\n",
      "Epoch: 62/100... Step: 1610... Loss: 0.4091... Val Loss: 3.2731\n",
      "Epoch: 63/100... Step: 1620... Loss: 0.4968... Val Loss: 3.2700\n",
      "Epoch: 63/100... Step: 1630... Loss: 0.4941... Val Loss: 3.3304\n",
      "Epoch: 64/100... Step: 1640... Loss: 0.5519... Val Loss: 3.2799\n",
      "Epoch: 64/100... Step: 1650... Loss: 0.5243... Val Loss: 3.2896\n",
      "Epoch: 64/100... Step: 1660... Loss: 0.5032... Val Loss: 3.3433\n",
      "Epoch: 65/100... Step: 1670... Loss: 0.4305... Val Loss: 3.2766\n",
      "Epoch: 65/100... Step: 1680... Loss: 0.4875... Val Loss: 3.3112\n",
      "Epoch: 65/100... Step: 1690... Loss: 0.4714... Val Loss: 3.2992\n",
      "Epoch: 66/100... Step: 1700... Loss: 0.4482... Val Loss: 3.3010\n",
      "Epoch: 66/100... Step: 1710... Loss: 0.4886... Val Loss: 3.2876\n",
      "Epoch: 67/100... Step: 1720... Loss: 0.4537... Val Loss: 3.2834\n",
      "Epoch: 67/100... Step: 1730... Loss: 0.4857... Val Loss: 3.3212\n",
      "Epoch: 67/100... Step: 1740... Loss: 0.4027... Val Loss: 3.3209\n",
      "Epoch: 68/100... Step: 1750... Loss: 0.4707... Val Loss: 3.2983\n",
      "Epoch: 68/100... Step: 1760... Loss: 0.5212... Val Loss: 3.3056\n",
      "Epoch: 69/100... Step: 1770... Loss: 0.5065... Val Loss: 3.2709\n",
      "Epoch: 69/100... Step: 1780... Loss: 0.5056... Val Loss: 3.3333\n",
      "Epoch: 69/100... Step: 1790... Loss: 0.4779... Val Loss: 3.2980\n",
      "Epoch: 70/100... Step: 1800... Loss: 0.4363... Val Loss: 3.2965\n",
      "Epoch: 70/100... Step: 1810... Loss: 0.4970... Val Loss: 3.3525\n",
      "Epoch: 70/100... Step: 1820... Loss: 0.4461... Val Loss: 3.3368\n",
      "Epoch: 71/100... Step: 1830... Loss: 0.4656... Val Loss: 3.3448\n",
      "Epoch: 71/100... Step: 1840... Loss: 0.5019... Val Loss: 3.3443\n",
      "Epoch: 72/100... Step: 1850... Loss: 0.4621... Val Loss: 3.3636\n",
      "Epoch: 72/100... Step: 1860... Loss: 0.4431... Val Loss: 3.3420\n",
      "Epoch: 72/100... Step: 1870... Loss: 0.4031... Val Loss: 3.3655\n",
      "Epoch: 73/100... Step: 1880... Loss: 0.4858... Val Loss: 3.3336\n",
      "Epoch: 73/100... Step: 1890... Loss: 0.4986... Val Loss: 3.3708\n",
      "Epoch: 74/100... Step: 1900... Loss: 0.4837... Val Loss: 3.3591\n",
      "Epoch: 74/100... Step: 1910... Loss: 0.5033... Val Loss: 3.3437\n",
      "Epoch: 74/100... Step: 1920... Loss: 0.5026... Val Loss: 3.3626\n",
      "Epoch: 75/100... Step: 1930... Loss: 0.4368... Val Loss: 3.3229\n",
      "Epoch: 75/100... Step: 1940... Loss: 0.4761... Val Loss: 3.3704\n",
      "Epoch: 75/100... Step: 1950... Loss: 0.4339... Val Loss: 3.3676\n",
      "Epoch: 76/100... Step: 1960... Loss: 0.4548... Val Loss: 3.3093\n",
      "Epoch: 76/100... Step: 1970... Loss: 0.4801... Val Loss: 3.3762\n",
      "Epoch: 77/100... Step: 1980... Loss: 0.4558... Val Loss: 3.3547\n",
      "Epoch: 77/100... Step: 1990... Loss: 0.4781... Val Loss: 3.3377\n",
      "Epoch: 77/100... Step: 2000... Loss: 0.3846... Val Loss: 3.3796\n",
      "Epoch: 78/100... Step: 2010... Loss: 0.4320... Val Loss: 3.3338\n",
      "Epoch: 78/100... Step: 2020... Loss: 0.4487... Val Loss: 3.3680\n",
      "Epoch: 79/100... Step: 2030... Loss: 0.5191... Val Loss: 3.3926\n",
      "Epoch: 79/100... Step: 2040... Loss: 0.4760... Val Loss: 3.3688\n",
      "Epoch: 79/100... Step: 2050... Loss: 0.4622... Val Loss: 3.3652\n",
      "Epoch: 80/100... Step: 2060... Loss: 0.3936... Val Loss: 3.3434\n",
      "Epoch: 80/100... Step: 2070... Loss: 0.4693... Val Loss: 3.4058\n",
      "Epoch: 80/100... Step: 2080... Loss: 0.4330... Val Loss: 3.4047\n",
      "Epoch: 81/100... Step: 2090... Loss: 0.4152... Val Loss: 3.3497\n",
      "Epoch: 81/100... Step: 2100... Loss: 0.4536... Val Loss: 3.4029\n",
      "Epoch: 82/100... Step: 2110... Loss: 0.4518... Val Loss: 3.4113\n",
      "Epoch: 82/100... Step: 2120... Loss: 0.4085... Val Loss: 3.3735\n",
      "Epoch: 82/100... Step: 2130... Loss: 0.3668... Val Loss: 3.4051\n",
      "Epoch: 83/100... Step: 2140... Loss: 0.4622... Val Loss: 3.4018\n",
      "Epoch: 83/100... Step: 2150... Loss: 0.4448... Val Loss: 3.3766\n",
      "Epoch: 84/100... Step: 2160... Loss: 0.4695... Val Loss: 3.4204\n",
      "Epoch: 84/100... Step: 2170... Loss: 0.4630... Val Loss: 3.3887\n",
      "Epoch: 84/100... Step: 2180... Loss: 0.4523... Val Loss: 3.4069\n",
      "Epoch: 85/100... Step: 2190... Loss: 0.4227... Val Loss: 3.4037\n",
      "Epoch: 85/100... Step: 2200... Loss: 0.4490... Val Loss: 3.3879\n",
      "Epoch: 85/100... Step: 2210... Loss: 0.4121... Val Loss: 3.3760\n",
      "Epoch: 86/100... Step: 2220... Loss: 0.4554... Val Loss: 3.3714\n",
      "Epoch: 86/100... Step: 2230... Loss: 0.4443... Val Loss: 3.3953\n",
      "Epoch: 87/100... Step: 2240... Loss: 0.4060... Val Loss: 3.4060\n",
      "Epoch: 87/100... Step: 2250... Loss: 0.4458... Val Loss: 3.3480\n",
      "Epoch: 87/100... Step: 2260... Loss: 0.3953... Val Loss: 3.3984\n",
      "Epoch: 88/100... Step: 2270... Loss: 0.4653... Val Loss: 3.4383\n",
      "Epoch: 88/100... Step: 2280... Loss: 0.4491... Val Loss: 3.4062\n",
      "Epoch: 89/100... Step: 2290... Loss: 0.4478... Val Loss: 3.4025\n",
      "Epoch: 89/100... Step: 2300... Loss: 0.4520... Val Loss: 3.3825\n",
      "Epoch: 89/100... Step: 2310... Loss: 0.4817... Val Loss: 3.4191\n",
      "Epoch: 90/100... Step: 2320... Loss: 0.3795... Val Loss: 3.4598\n",
      "Epoch: 90/100... Step: 2330... Loss: 0.4153... Val Loss: 3.4236\n",
      "Epoch: 90/100... Step: 2340... Loss: 0.4177... Val Loss: 3.4066\n",
      "Epoch: 91/100... Step: 2350... Loss: 0.4201... Val Loss: 3.4134\n",
      "Epoch: 91/100... Step: 2360... Loss: 0.4559... Val Loss: 3.4133\n",
      "Epoch: 92/100... Step: 2370... Loss: 0.4130... Val Loss: 3.4039\n",
      "Epoch: 92/100... Step: 2380... Loss: 0.4310... Val Loss: 3.4067\n",
      "Epoch: 92/100... Step: 2390... Loss: 0.3565... Val Loss: 3.4425\n",
      "Epoch: 93/100... Step: 2400... Loss: 0.4202... Val Loss: 3.4250\n",
      "Epoch: 93/100... Step: 2410... Loss: 0.4458... Val Loss: 3.4190\n",
      "Epoch: 94/100... Step: 2420... Loss: 0.4057... Val Loss: 3.3990\n",
      "Epoch: 94/100... Step: 2430... Loss: 0.4725... Val Loss: 3.4358\n",
      "Epoch: 94/100... Step: 2440... Loss: 0.4456... Val Loss: 3.4215\n",
      "Epoch: 95/100... Step: 2450... Loss: 0.3708... Val Loss: 3.4047\n",
      "Epoch: 95/100... Step: 2460... Loss: 0.4083... Val Loss: 3.4358\n",
      "Epoch: 95/100... Step: 2470... Loss: 0.4025... Val Loss: 3.4369\n",
      "Epoch: 96/100... Step: 2480... Loss: 0.4303... Val Loss: 3.4345\n",
      "Epoch: 96/100... Step: 2490... Loss: 0.4409... Val Loss: 3.4355\n",
      "Epoch: 97/100... Step: 2500... Loss: 0.4078... Val Loss: 3.4551\n",
      "Epoch: 97/100... Step: 2510... Loss: 0.4341... Val Loss: 3.4313\n",
      "Epoch: 97/100... Step: 2520... Loss: 0.3388... Val Loss: 3.4751\n",
      "Epoch: 98/100... Step: 2530... Loss: 0.4175... Val Loss: 3.4268\n",
      "Epoch: 98/100... Step: 2540... Loss: 0.4065... Val Loss: 3.4521\n",
      "Epoch: 99/100... Step: 2550... Loss: 0.4026... Val Loss: 3.4749\n",
      "Epoch: 99/100... Step: 2560... Loss: 0.4305... Val Loss: 3.4274\n",
      "Epoch: 99/100... Step: 2570... Loss: 0.4205... Val Loss: 3.5026\n",
      "Epoch: 100/100... Step: 2580... Loss: 0.3666... Val Loss: 3.4492\n",
      "Epoch: 100/100... Step: 2590... Loss: 0.4001... Val Loss: 3.4779\n",
      "Epoch: 100/100... Step: 2600... Loss: 0.3703... Val Loss: 3.4734\n"
     ]
    }
   ],
   "source": [
    "batch_size = 16\n",
    "seq_length = 100\n",
    "n_epochs =  100 # start small if you are just testing initial behavior\n",
    "\n",
    "# train the model\n",
    "train(net, encoded, epochs=n_epochs, batch_size=batch_size, seq_length=seq_length, lr=0.0001, print_every=10)"
   ]
  },
  {
   "cell_type": "markdown",
   "metadata": {},
   "source": [
    "## Getting the best model\n",
    "\n",
    "To set your hyperparameters to get the best performance, you'll want to watch the training and validation losses. If your training loss is much lower than the validation loss, you're overfitting. Increase regularization (more dropout) or use a smaller network. If the training and validation losses are close, you're underfitting so you can increase the size of the network."
   ]
  },
  {
   "cell_type": "markdown",
   "metadata": {},
   "source": [
    "## Hyperparameters\n",
    "\n",
    "Here are the hyperparameters for the network.\n",
    "\n",
    "In defining the model:\n",
    "* `n_hidden` - The number of units in the hidden layers.\n",
    "* `n_layers` - Number of hidden LSTM layers to use.\n",
    "\n",
    "We assume that dropout probability and learning rate will be kept at the default, in this example.\n",
    "\n",
    "And in training:\n",
    "* `batch_size` - Number of sequences running through the network in one pass.\n",
    "* `seq_length` - Number of characters in the sequence the network is trained on. Larger is better typically, the network will learn more long range dependencies. But it takes longer to train. 100 is typically a good number here.\n",
    "* `lr` - Learning rate for training\n",
    "\n",
    "Here's some good advice from Andrej Karpathy on training the network. I'm going to copy it in here for your benefit, but also link to [where it originally came from](https://github.com/karpathy/char-rnn#tips-and-tricks).\n",
    "\n",
    "> ## Tips and Tricks\n",
    "\n",
    ">### Monitoring Validation Loss vs. Training Loss\n",
    ">If you're somewhat new to Machine Learning or Neural Networks it can take a bit of expertise to get good models. The most important quantity to keep track of is the difference between your training loss (printed during training) and the validation loss (printed once in a while when the RNN is run on the validation data (by default every 1000 iterations)). In particular:\n",
    "\n",
    "> - If your training loss is much lower than validation loss then this means the network might be **overfitting**. Solutions to this are to decrease your network size, or to increase dropout. For example you could try dropout of 0.5 and so on.\n",
    "> - If your training/validation loss are about equal then your model is **underfitting**. Increase the size of your model (either number of layers or the raw number of neurons per layer)\n",
    "\n",
    "> ### Approximate number of parameters\n",
    "\n",
    "> The two most important parameters that control the model are `n_hidden` and `n_layers`. I would advise that you always use `n_layers` of either 2/3. The `n_hidden` can be adjusted based on how much data you have. The two important quantities to keep track of here are:\n",
    "\n",
    "> - The number of parameters in your model. This is printed when you start training.\n",
    "> - The size of your dataset. 1MB file is approximately 1 million characters.\n",
    "\n",
    ">These two should be about the same order of magnitude. It's a little tricky to tell. Here are some examples:\n",
    "\n",
    "> - I have a 100MB dataset and I'm using the default parameter settings (which currently print 150K parameters). My data size is significantly larger (100 mil >> 0.15 mil), so I expect to heavily underfit. I am thinking I can comfortably afford to make `n_hidden` larger.\n",
    "> - I have a 10MB dataset and running a 10 million parameter model. I'm slightly nervous and I'm carefully monitoring my validation loss. If it's larger than my training loss then I may want to try to increase dropout a bit and see if that helps the validation loss.\n",
    "\n",
    "> ### Best models strategy\n",
    "\n",
    ">The winning strategy to obtaining very good models (if you have the compute time) is to always err on making the network larger (as large as you're willing to wait for it to compute) and then try different dropout values (between 0,1). Whatever model has the best validation performance (the loss, written in the checkpoint filename, low is good) is the one you should use in the end.\n",
    "\n",
    ">It is very common in deep learning to run many different models with many different hyperparameter settings, and in the end take whatever checkpoint gave the best validation performance.\n",
    "\n",
    ">By the way, the size of your training and validation splits are also parameters. Make sure you have a decent amount of data in your validation set or otherwise the validation performance will be noisy and not very informative."
   ]
  },
  {
   "cell_type": "markdown",
   "metadata": {},
   "source": [
    "## Checkpoint\n",
    "\n",
    "After training, we'll save the model so we can load it again later if we need too. Here I'm saving the parameters needed to create the same architecture, the hidden layer hyperparameters and the text characters."
   ]
  },
  {
   "cell_type": "code",
   "execution_count": 215,
   "metadata": {},
   "outputs": [],
   "source": [
    "# change the name, for saving multiple files\n",
    "model_name = 'rnn_x_epoch.net'\n",
    "\n",
    "checkpoint = {'n_hidden': net.n_hidden,\n",
    "              'n_layers': net.n_layers,\n",
    "              'state_dict': net.state_dict(),\n",
    "              'tokens': net.chars}\n",
    "\n",
    "with open(model_name, 'wb') as f:\n",
    "    torch.save(checkpoint, f)"
   ]
  },
  {
   "cell_type": "markdown",
   "metadata": {},
   "source": [
    "---\n",
    "## Making Predictions\n",
    "\n",
    "Now that the model is trained, we'll want to sample from it and make predictions about next characters! To sample, we pass in a character and have the network predict the next character. Then we take that character, pass it back in, and get another predicted character. Just keep doing this and you'll generate a bunch of text!\n",
    "\n",
    "### A note on the `predict`  function\n",
    "\n",
    "The output of our RNN is from a fully-connected layer and it outputs a **distribution of next-character scores**.\n",
    "\n",
    "> To actually get the next character, we apply a softmax function, which gives us a *probability* distribution that we can then sample to predict the next character.\n",
    "\n",
    "### Top K sampling\n",
    "\n",
    "Our predictions come from a categorical probability distribution over all the possible characters. We can make the sample text and make it more reasonable to handle (with less variables) by only considering some $K$ most probable characters. This will prevent the network from giving us completely absurd characters while allowing it to introduce some noise and randomness into the sampled text. Read more about [topk, here](https://pytorch.org/docs/stable/torch.html#torch.topk).\n"
   ]
  },
  {
   "cell_type": "code",
   "execution_count": 216,
   "metadata": {},
   "outputs": [],
   "source": [
    "def predict(net, char, h=None, top_k=None):\n",
    "        ''' Given a character, predict the next character.\n",
    "            Returns the predicted character and the hidden state.\n",
    "        '''\n",
    "        \n",
    "        # tensor inputs\n",
    "        x = np.array([[net.char2int[char]]])\n",
    "        x = one_hot_encode(x, len(net.chars))\n",
    "        inputs = torch.from_numpy(x)\n",
    "        \n",
    "        if(train_on_gpu):\n",
    "            inputs = inputs.cuda()\n",
    "        \n",
    "        # detach hidden state from history\n",
    "        h = tuple([each.data for each in h])\n",
    "        # get the output of the model\n",
    "        out, h = net(inputs, h)\n",
    "\n",
    "        # get the character probabilities\n",
    "        p = F.softmax(out, dim=1).data\n",
    "        if(train_on_gpu):\n",
    "            p = p.cpu() # move to cpu\n",
    "        \n",
    "        # get top characters\n",
    "        if top_k is None:\n",
    "            top_ch = np.arange(len(net.chars))\n",
    "        else:\n",
    "            p, top_ch = p.topk(top_k)\n",
    "            top_ch = top_ch.numpy().squeeze()\n",
    "        \n",
    "        # select the likely next character with some element of randomness\n",
    "        p = p.numpy().squeeze()\n",
    "        char = np.random.choice(top_ch, p=p/p.sum())\n",
    "        \n",
    "        # return the encoded value of the predicted char and the hidden state\n",
    "        return net.int2char[char], h"
   ]
  },
  {
   "cell_type": "markdown",
   "metadata": {},
   "source": [
    "### Priming and generating text \n",
    "\n",
    "Typically you'll want to prime the network so you can build up a hidden state. Otherwise the network will start out generating characters at random. In general the first bunch of characters will be a little rough since it hasn't built up a long history of characters to predict from."
   ]
  },
  {
   "cell_type": "code",
   "execution_count": 217,
   "metadata": {},
   "outputs": [],
   "source": [
    "def sample(net, size, prime='The', top_k=None):\n",
    "        \n",
    "    if(train_on_gpu):\n",
    "        net.cuda()\n",
    "    else:\n",
    "        net.cpu()\n",
    "    \n",
    "    net.eval() # eval mode\n",
    "    \n",
    "    # First off, run through the prime characters\n",
    "    chars = [ch for ch in prime]\n",
    "    h = net.init_hidden(1)\n",
    "    for ch in prime:\n",
    "        char, h = predict(net, ch, h, top_k=top_k)\n",
    "\n",
    "    chars.append(char)\n",
    "    \n",
    "    # Now pass in the previous character and get a new one\n",
    "    for ii in range(size):\n",
    "        char, h = predict(net, chars[-1], h, top_k=top_k)\n",
    "        chars.append(char)\n",
    "\n",
    "    return ''.join(chars)"
   ]
  },
  {
   "cell_type": "code",
   "execution_count": 225,
   "metadata": {},
   "outputs": [
    {
     "name": "stdout",
     "output_type": "stream",
     "text": [
      "The wound of le.\n",
      "\n",
      "Showe hows Santa Claus one cann\n",
      "\n",
      "Mitts con Santa Claus!\n",
      "But he Santa Must be Santa\n",
      "Must be Santa, Santa Claus\n",
      "Doug Donn Son Christmas mey.\n",
      "\n",
      "The irery Salily warling,\n",
      "The pile werass areng\n",
      "And the jlocke a at hick a herre an ging;\n",
      "And brong us your hin.\n",
      "\n",
      "Shenphed ful the pann of fithing\n"
     ]
    }
   ],
   "source": [
    "print(sample(net, 300, prime='The', top_k=5))"
   ]
  },
  {
   "cell_type": "markdown",
   "metadata": {},
   "source": [
    "## Loading a checkpoint"
   ]
  },
  {
   "cell_type": "code",
   "execution_count": 219,
   "metadata": {},
   "outputs": [
    {
     "data": {
      "text/plain": [
       "<All keys matched successfully>"
      ]
     },
     "execution_count": 219,
     "metadata": {},
     "output_type": "execute_result"
    }
   ],
   "source": [
    "# Here we have loaded in a model that trained over 20 epochs `rnn_20_epoch.net`\n",
    "with open('rnn_x_epoch.net', 'rb') as f:\n",
    "    checkpoint = torch.load(f)\n",
    "    \n",
    "loaded = CharRNN(checkpoint['tokens'], n_hidden=checkpoint['n_hidden'], n_layers=checkpoint['n_layers'])\n",
    "loaded.load_state_dict(checkpoint['state_dict'])"
   ]
  },
  {
   "cell_type": "code",
   "execution_count": 220,
   "metadata": {},
   "outputs": [
    {
     "name": "stdout",
     "output_type": "stream",
     "text": [
      "I wishla Soo you'll geat\n",
      "Walkin' in wor'y weins and como;\n",
      "\n",
      "A but o fop the unrer cofus likh\n",
      "Ind weat of bates arlew waig\n",
      "\n",
      "Sings bells and bills\n",
      "Tane the sills wele bight\n",
      "Thore wist are fir in againg and blasinn ip wathel light on with antels sincly heel to sing\n",
      "Ringle gill the crinds,\n",
      "with a vine as of his fole\n",
      "have a hally jolle papk, jelly Christmas;\n",
      "In weent a silig wan a sunging dant a gpight.\n",
      "\n",
      "Growkad sitgere for Christmas;\n",
      "Way you'r of the meard of sloigh and bleed any mack.\n",
      "I'le and foun' Mar. Grancman, wears beat som sing\n",
      "The stor wiss the soobs and gene\n",
      "Way chos sore has heig and jolly hit foin\n",
      "And frores san tho now.\n",
      "\n",
      "I tho fellot that wo cab cyoe\n",
      "A don our the caont and be.\n",
      "\n",
      "I stour, tho fur you' hans\n",
      "I bintlin, soun slass\n",
      "and chimdery in hear.\n",
      "\n",
      "Sane works thit wears the light this sloce,\n",
      "In sheem the cills we ding\n",
      "latet with the and yoar as his gadet's bood\n",
      "In's bleging an whin soundssone.\n",
      "\n",
      "Come,\n",
      "And yo who dolly woppin to co\n",
      "Ber on heme on the on and tile have somen;\n",
      "And mome of \n"
     ]
    }
   ],
   "source": [
    "# Sample using a loaded model\n",
    "print(sample(loaded, 1000, top_k=5, prime=\"I wish\"))"
   ]
  },
  {
   "cell_type": "code",
   "execution_count": null,
   "metadata": {},
   "outputs": [],
   "source": []
  },
  {
   "cell_type": "code",
   "execution_count": null,
   "metadata": {},
   "outputs": [],
   "source": []
  }
 ],
 "metadata": {
  "kernelspec": {
   "display_name": "Python 3",
   "language": "python",
   "name": "python3"
  },
  "language_info": {
   "codemirror_mode": {
    "name": "ipython",
    "version": 3
   },
   "file_extension": ".py",
   "mimetype": "text/x-python",
   "name": "python",
   "nbconvert_exporter": "python",
   "pygments_lexer": "ipython3",
   "version": "3.7.5"
  }
 },
 "nbformat": 4,
 "nbformat_minor": 2
}
